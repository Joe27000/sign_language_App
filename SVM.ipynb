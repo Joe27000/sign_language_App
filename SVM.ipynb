{
 "cells": [
  {
   "cell_type": "code",
   "execution_count": 4,
   "id": "7d33f6a0",
   "metadata": {},
   "outputs": [],
   "source": [
    "import os\n",
    "import cv2\n",
    "import numpy as np\n",
    "from sklearn.model_selection import train_test_split\n",
    "from sklearn.preprocessing import LabelEncoder\n",
    "from sklearn.svm import SVC\n",
    "from sklearn.metrics import accuracy_score,classification_report"
   ]
  },
  {
   "cell_type": "code",
   "execution_count": 5,
   "id": "81114db4",
   "metadata": {},
   "outputs": [],
   "source": [
    "# Set the path to your dataset directory\n",
    "dataset_dir = 'E:\\\\data_set\\\\train'\n",
    "# Image size (adjust as needed)\n",
    "img_height, img_width = 64, 64"
   ]
  },
  {
   "cell_type": "code",
   "execution_count": 6,
   "id": "d7f344c9",
   "metadata": {},
   "outputs": [],
   "source": [
    "# Initialize lists to hold image data and labels\n",
    "data = []\n",
    "labels = []"
   ]
  },
  {
   "cell_type": "code",
   "execution_count": 7,
   "id": "3435d2e9",
   "metadata": {},
   "outputs": [],
   "source": [
    "# Load and preprocess the images\n",
    "for label in os.listdir(dataset_dir):\n",
    "    label_path = os.path.join(dataset_dir, label)\n",
    "    if os.path.isdir(label_path):\n",
    "        for img_file in os.listdir(label_path):\n",
    "            img_path = os.path.join(label_path, img_file)\n",
    "            img = cv2.imread(img_path)\n",
    "            if img is not None:\n",
    "                img = cv2.resize(img, (img_height, img_width))\n",
    "                data.append(img)\n",
    "                labels.append(label)"
   ]
  },
  {
   "cell_type": "code",
   "execution_count": 8,
   "id": "66e9aa30",
   "metadata": {},
   "outputs": [],
   "source": [
    "# Convert lists to numpy arrays\n",
    "data = np.array(data)\n",
    "labels = np.array(labels)"
   ]
  },
  {
   "cell_type": "code",
   "execution_count": 9,
   "id": "ae169248",
   "metadata": {},
   "outputs": [],
   "source": [
    "# Flatten image data for SVM input\n",
    "data = data.reshape(data.shape[0], -1)"
   ]
  },
  {
   "cell_type": "code",
   "execution_count": 10,
   "id": "ad5df97d",
   "metadata": {},
   "outputs": [],
   "source": [
    "# Encode labels to integers\n",
    "le = LabelEncoder()\n",
    "labels = le.fit_transform(labels)"
   ]
  },
  {
   "cell_type": "code",
   "execution_count": 11,
   "id": "4408345e",
   "metadata": {},
   "outputs": [],
   "source": [
    "# Split the dataset into training and testing sets\n",
    "X_train, X_test, y_train, y_test = train_test_split(data, labels, test_size=0.2, random_state=42)"
   ]
  },
  {
   "cell_type": "code",
   "execution_count": 12,
   "id": "4844347a",
   "metadata": {},
   "outputs": [
    {
     "data": {
      "text/html": [
       "<style>#sk-container-id-1 {color: black;background-color: white;}#sk-container-id-1 pre{padding: 0;}#sk-container-id-1 div.sk-toggleable {background-color: white;}#sk-container-id-1 label.sk-toggleable__label {cursor: pointer;display: block;width: 100%;margin-bottom: 0;padding: 0.3em;box-sizing: border-box;text-align: center;}#sk-container-id-1 label.sk-toggleable__label-arrow:before {content: \"▸\";float: left;margin-right: 0.25em;color: #696969;}#sk-container-id-1 label.sk-toggleable__label-arrow:hover:before {color: black;}#sk-container-id-1 div.sk-estimator:hover label.sk-toggleable__label-arrow:before {color: black;}#sk-container-id-1 div.sk-toggleable__content {max-height: 0;max-width: 0;overflow: hidden;text-align: left;background-color: #f0f8ff;}#sk-container-id-1 div.sk-toggleable__content pre {margin: 0.2em;color: black;border-radius: 0.25em;background-color: #f0f8ff;}#sk-container-id-1 input.sk-toggleable__control:checked~div.sk-toggleable__content {max-height: 200px;max-width: 100%;overflow: auto;}#sk-container-id-1 input.sk-toggleable__control:checked~label.sk-toggleable__label-arrow:before {content: \"▾\";}#sk-container-id-1 div.sk-estimator input.sk-toggleable__control:checked~label.sk-toggleable__label {background-color: #d4ebff;}#sk-container-id-1 div.sk-label input.sk-toggleable__control:checked~label.sk-toggleable__label {background-color: #d4ebff;}#sk-container-id-1 input.sk-hidden--visually {border: 0;clip: rect(1px 1px 1px 1px);clip: rect(1px, 1px, 1px, 1px);height: 1px;margin: -1px;overflow: hidden;padding: 0;position: absolute;width: 1px;}#sk-container-id-1 div.sk-estimator {font-family: monospace;background-color: #f0f8ff;border: 1px dotted black;border-radius: 0.25em;box-sizing: border-box;margin-bottom: 0.5em;}#sk-container-id-1 div.sk-estimator:hover {background-color: #d4ebff;}#sk-container-id-1 div.sk-parallel-item::after {content: \"\";width: 100%;border-bottom: 1px solid gray;flex-grow: 1;}#sk-container-id-1 div.sk-label:hover label.sk-toggleable__label {background-color: #d4ebff;}#sk-container-id-1 div.sk-serial::before {content: \"\";position: absolute;border-left: 1px solid gray;box-sizing: border-box;top: 0;bottom: 0;left: 50%;z-index: 0;}#sk-container-id-1 div.sk-serial {display: flex;flex-direction: column;align-items: center;background-color: white;padding-right: 0.2em;padding-left: 0.2em;position: relative;}#sk-container-id-1 div.sk-item {position: relative;z-index: 1;}#sk-container-id-1 div.sk-parallel {display: flex;align-items: stretch;justify-content: center;background-color: white;position: relative;}#sk-container-id-1 div.sk-item::before, #sk-container-id-1 div.sk-parallel-item::before {content: \"\";position: absolute;border-left: 1px solid gray;box-sizing: border-box;top: 0;bottom: 0;left: 50%;z-index: -1;}#sk-container-id-1 div.sk-parallel-item {display: flex;flex-direction: column;z-index: 1;position: relative;background-color: white;}#sk-container-id-1 div.sk-parallel-item:first-child::after {align-self: flex-end;width: 50%;}#sk-container-id-1 div.sk-parallel-item:last-child::after {align-self: flex-start;width: 50%;}#sk-container-id-1 div.sk-parallel-item:only-child::after {width: 0;}#sk-container-id-1 div.sk-dashed-wrapped {border: 1px dashed gray;margin: 0 0.4em 0.5em 0.4em;box-sizing: border-box;padding-bottom: 0.4em;background-color: white;}#sk-container-id-1 div.sk-label label {font-family: monospace;font-weight: bold;display: inline-block;line-height: 1.2em;}#sk-container-id-1 div.sk-label-container {text-align: center;}#sk-container-id-1 div.sk-container {/* jupyter's `normalize.less` sets `[hidden] { display: none; }` but bootstrap.min.css set `[hidden] { display: none !important; }` so we also need the `!important` here to be able to override the default hidden behavior on the sphinx rendered scikit-learn.org. See: https://github.com/scikit-learn/scikit-learn/issues/21755 */display: inline-block !important;position: relative;}#sk-container-id-1 div.sk-text-repr-fallback {display: none;}</style><div id=\"sk-container-id-1\" class=\"sk-top-container\"><div class=\"sk-text-repr-fallback\"><pre>SVC(kernel=&#x27;linear&#x27;)</pre><b>In a Jupyter environment, please rerun this cell to show the HTML representation or trust the notebook. <br />On GitHub, the HTML representation is unable to render, please try loading this page with nbviewer.org.</b></div><div class=\"sk-container\" hidden><div class=\"sk-item\"><div class=\"sk-estimator sk-toggleable\"><input class=\"sk-toggleable__control sk-hidden--visually\" id=\"sk-estimator-id-1\" type=\"checkbox\" checked><label for=\"sk-estimator-id-1\" class=\"sk-toggleable__label sk-toggleable__label-arrow\">SVC</label><div class=\"sk-toggleable__content\"><pre>SVC(kernel=&#x27;linear&#x27;)</pre></div></div></div></div></div>"
      ],
      "text/plain": [
       "SVC(kernel='linear')"
      ]
     },
     "execution_count": 12,
     "metadata": {},
     "output_type": "execute_result"
    }
   ],
   "source": [
    "# Train an SVM classifier\n",
    "svm_model = SVC(kernel='linear', C=1.0)\n",
    "svm_model.fit(X_train, y_train)"
   ]
  },
  {
   "cell_type": "code",
   "execution_count": 13,
   "id": "e345ae2e",
   "metadata": {},
   "outputs": [],
   "source": [
    "# Predict on the test set\n",
    "y_pred = svm_model.predict(X_test)"
   ]
  },
  {
   "cell_type": "code",
   "execution_count": 14,
   "id": "46f80b35",
   "metadata": {},
   "outputs": [
    {
     "name": "stdout",
     "output_type": "stream",
     "text": [
      "Accuracy: 100.00%\n",
      "Classification Report:\n",
      "              precision    recall  f1-score   support\n",
      "\n",
      "           1       1.00      1.00      1.00       214\n",
      "          10       1.00      1.00      1.00       213\n",
      "           2       1.00      1.00      1.00       195\n",
      "           3       1.00      1.00      1.00       210\n",
      "           4       1.00      1.00      1.00       188\n",
      "           5       1.00      1.00      1.00       203\n",
      "           6       1.00      1.00      1.00       213\n",
      "           7       1.00      1.00      1.00       201\n",
      "           8       1.00      1.00      1.00       197\n",
      "           9       1.00      1.00      1.00       189\n",
      "           A       1.00      1.00      1.00       190\n",
      "           B       1.00      1.00      1.00       179\n",
      "           C       1.00      1.00      1.00       207\n",
      "           D       1.00      1.00      1.00       202\n",
      "           E       1.00      1.00      1.00       190\n",
      "           F       1.00      1.00      1.00       192\n",
      "           G       1.00      1.00      1.00       185\n",
      "           H       1.00      1.00      1.00       219\n",
      "           I       1.00      1.00      1.00       205\n",
      "           J       1.00      1.00      1.00       198\n",
      "           K       1.00      1.00      1.00       184\n",
      "           L       1.00      1.00      1.00       193\n",
      "           M       1.00      1.00      1.00       204\n",
      "           N       1.00      1.00      1.00       197\n",
      "           O       1.00      1.00      1.00       203\n",
      "           P       1.00      1.00      1.00       188\n",
      "           Q       1.00      1.00      1.00       195\n",
      "           R       1.00      1.00      1.00       184\n",
      "           S       1.00      1.00      1.00       199\n",
      "           T       1.00      1.00      1.00       200\n",
      "           U       1.00      1.00      1.00       211\n",
      "           V       1.00      1.00      1.00       194\n",
      "           W       1.00      1.00      1.00       203\n",
      "           X       1.00      1.00      1.00       199\n",
      "           Y       1.00      1.00      1.00       225\n",
      "           Z       1.00      1.00      1.00       190\n",
      "best of luck       1.00      1.00      1.00       226\n",
      "  i love you       1.00      1.00      1.00       212\n",
      "       space       1.00      1.00      1.00       203\n",
      "\n",
      "    accuracy                           1.00      7800\n",
      "   macro avg       1.00      1.00      1.00      7800\n",
      "weighted avg       1.00      1.00      1.00      7800\n",
      "\n"
     ]
    }
   ],
   "source": [
    "# Evaluate the model\n",
    "accuracy = accuracy_score(y_test, y_pred)\n",
    "#accuracy = accuracy_score(test_labels, predictions)\n",
    "report = classification_report(y_test, y_pred, target_names=le.classes_)\n",
    "\n",
    "print(f'Accuracy: {accuracy * 100:.2f}%')\n",
    "print('Classification Report:')\n",
    "print(report)"
   ]
  },
  {
   "cell_type": "code",
   "execution_count": 15,
   "id": "7ae3c32e",
   "metadata": {},
   "outputs": [
    {
     "name": "stdout",
     "output_type": "stream",
     "text": [
      "Model training complete and saved as 'sign_language_svm_model.pkl'\n"
     ]
    }
   ],
   "source": [
    "# Save the trained model\n",
    "import joblib\n",
    "joblib.dump(svm_model, 'sign_language_svm_model.pkl')\n",
    "print(\"Model training complete and saved as 'sign_language_svm_model.pkl'\")"
   ]
  },
  {
   "cell_type": "code",
   "execution_count": 16,
   "id": "1c9fe037",
   "metadata": {},
   "outputs": [
    {
     "name": "stdout",
     "output_type": "stream",
     "text": [
      "Predicted Label: D\n"
     ]
    }
   ],
   "source": [
    "import os\n",
    "import cv2\n",
    "import numpy as np\n",
    "from sklearn.preprocessing import LabelEncoder\n",
    "import joblib\n",
    "\n",
    "# Set the path to your dataset directory and the saved model file\n",
    "#dataset_dir = 'path/to/your/dataset'\n",
    "model_path = 'sign_language_svm_model.pkl'\n",
    "img_height, img_width = 64, 64  # Image size (adjust as needed)\n",
    "\n",
    "# Load the trained SVM model\n",
    "svm_model = joblib.load(model_path)\n",
    "\n",
    "# Function to load and preprocess a single image\n",
    "def preprocess_image(img_path):\n",
    "    img = cv2.imread(img_path)\n",
    "    if img is not None:\n",
    "        img = cv2.resize(img, (img_height, img_width))  # Resize image\n",
    "        img_flattened = img.flatten()  # Flatten the image\n",
    "        return img_flattened\n",
    "    else:\n",
    "        raise ValueError(\"Image not found or cannot be loaded.\")\n",
    "\n",
    "# Test a specific image from the dataset\n",
    "#test_label = 'A'  # Replace with the actual label you want to test\n",
    "#test_img_file = 'img1.jpg'  # Replace with the actual image filename\n",
    "\n",
    "# Construct the full path to the image\n",
    "test_img_path = os.path.join('E:\\\\data_set\\\\test\\\\D\\\\15.png')\n",
    "\n",
    "# Preprocess the image\n",
    "test_img_data = preprocess_image(test_img_path).reshape(1, -1)  # Reshape for a single sample\n",
    "\n",
    "# Make a prediction using the SVM model\n",
    "prediction = svm_model.predict(test_img_data)\n",
    "\n",
    "# Load and encode the labels to interpret the prediction\n",
    "le = LabelEncoder()\n",
    "# Assuming you have a list of labels, e.g., ['A', 'B', 'C', ...]\n",
    "labels = sorted(os.listdir(dataset_dir))\n",
    "le.fit(labels)\n",
    "\n",
    "# Get the predicted label\n",
    "predicted_label = le.inverse_transform(prediction)\n",
    "\n",
    "print(f'Predicted Label: {predicted_label[0]}')"
   ]
  },
  {
   "cell_type": "code",
   "execution_count": null,
   "id": "54e0eea1",
   "metadata": {},
   "outputs": [],
   "source": []
  }
 ],
 "metadata": {
  "kernelspec": {
   "display_name": "Python 3 (ipykernel)",
   "language": "python",
   "name": "python3"
  },
  "language_info": {
   "codemirror_mode": {
    "name": "ipython",
    "version": 3
   },
   "file_extension": ".py",
   "mimetype": "text/x-python",
   "name": "python",
   "nbconvert_exporter": "python",
   "pygments_lexer": "ipython3",
   "version": "3.11.3"
  }
 },
 "nbformat": 4,
 "nbformat_minor": 5
}
